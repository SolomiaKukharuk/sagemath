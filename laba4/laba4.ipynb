{
 "cells": [
  {
   "cell_type": "markdown",
   "id": "240177b2-c857-437b-9695-b2f6cdb7de5d",
   "metadata": {},
   "source": [
    "# Лабораторна робота 4. Підгрупи, системи твірних\n",
    "\n",
    "\n",
    "_Примітка_: наведений код є лише одним з можливих шаблонів виконання. Можете писати по-своєму, але розділяйте свій код на функції, щоб їх можна було простіше перевіряти.\n",
    "\n",
    "## Завдання 1. \n",
    "\n",
    "__Знайдіть усі незвідні системи твірних групи $S_4$.__"
   ]
  },
  {
   "cell_type": "code",
   "execution_count": 2,
   "id": "48c12298-55e9-4d0f-89c5-bdd276410db8",
   "metadata": {},
   "outputs": [],
   "source": [
    "from sage.all import *\n",
    "\n",
    "def irreducible_generating_sets(group):\n",
    "    elements = group.gens()\n",
    "    generating_sets = []\n",
    "\n",
    "    for i in range(1, len(elements) + 1):\n",
    "        for subset in Combinations(elements, i):\n",
    "            if group.subgroup(subset) == group:\n",
    "                if is_irreducible_set(subset, group):\n",
    "                    generating_sets.append(subset)\n",
    "    \n",
    "    return generating_sets\n",
    "\n",
    "def is_irreducible_set(subset, group): # незвідна\n",
    "    for element in subset:\n",
    "        reduced_subset = list(set(subset) - {element})\n",
    "        if group.subgroup(reduced_subset) == group:\n",
    "            return False\n",
    "    return True\n",
    "\n",
    "def main():\n",
    "    \n",
    "    S4 = SymmetricGroup(4)\n",
    "    \n",
    "    irreducible_sets = irreducible_generating_sets(S4)\n",
    "    \n",
    "    with open('t4_1.txt', 'w') as f:\n",
    "        for idx, gen_set in enumerate(irreducible_sets):\n",
    "            f.write(f'set {idx + 1}: {gen_set}\\n')\n",
    "\n",
    "main()"
   ]
  },
  {
   "cell_type": "markdown",
   "id": "bb9f5726-dd3b-48e0-85be-d725af835ce2",
   "metadata": {},
   "source": [
    "## Завдання 2. \n",
    "\n",
    "__Знайдіть усі підгрупи груп $S_4, A_4, S_5, A_5$.__"
   ]
  },
  {
   "cell_type": "code",
   "execution_count": 4,
   "id": "600b817c-bfd5-449c-8c18-67848ccb4403",
   "metadata": {},
   "outputs": [],
   "source": [
    "from sage.all import *\n",
    "\n",
    "def print_subgroups_to_file(group, file):\n",
    "    subgroups = group.subgroups()\n",
    "    file.write(f\"к-сть підгруп групи {group}: {len(subgroups)}\\n\")\n",
    "    for idx, subgroup in enumerate(subgroups):\n",
    "        file.write(f\"підгрупа {idx + 1}: {subgroup}, порядок: {subgroup.order()}\\n\")\n",
    "\n",
    "with open('t4_2.txt', 'w') as f:\n",
    "    S4 = SymmetricGroup(4)\n",
    "    print_subgroups_to_file(S4, f)\n",
    "    A4 = AlternatingGroup(4)\n",
    "    print_subgroups_to_file(A4, f)\n",
    "    S5 = SymmetricGroup(5)\n",
    "    print_subgroups_to_file(S5, f)\n",
    "    A5 = AlternatingGroup(5)\n",
    "    print_subgroups_to_file(A5, f)"
   ]
  },
  {
   "cell_type": "markdown",
   "id": "653a9629-e757-442f-af0b-bd53b4694cff",
   "metadata": {},
   "source": [
    "## Завдання 3. \n",
    "\n",
    "__Задайте дві випадкові підстановки з групи $S_n, \\, (1 \\le n \\le 100)$. Перевірте чи є вони парними. Знайдіть порядок групи, ними породженої. Чи буде ця група дорівнювати $A_n$? $S_n$?__"
   ]
  },
  {
   "cell_type": "code",
   "execution_count": 7,
   "id": "ee732968-a661-4c26-b729-6b17b1e0a3e3",
   "metadata": {},
   "outputs": [
    {
     "name": "stdout",
     "output_type": "stream",
     "text": [
      "Permutaion 1: (1,21,54,33,5,10,53,29,41,51,19)(2,25,32,20,52,36,47,6,56,57,34,50,27,37,4,23,31,17,9,40,16,49,58,46,38,8,3,48,43,24,35,14,26,12,28,11)(7,39,45,18,22,15,44,13,30,55), парна: True\n",
      "Permutaion 2: (1,8,24,42,22,58,54,16,18,47,33,23,12,37,43,39,11,4,48,35,32,13,9)(2,53,40,30,44,55,57,19,28,38,5,45,27,46,50,6,15,17)(3,41,51,56,20,34,31,10,52,25,29)(7,14)(21,36,26), парна: True\n",
      "порядок групи, породженої підстановками: 1175280665641439285914737455257537341914431159090571462210349957120000000000000\n",
      "породжена група дорівнює An\n",
      "породжена група дорівнює Sn\n"
     ]
    }
   ],
   "source": [
    "from sage.all import *\n",
    "import random\n",
    "\n",
    "def random_permutation_and_properties(n):\n",
    "    perm1 = SymmetricGroup(n).random_element()\n",
    "    perm2 = SymmetricGroup(n).random_element()\n",
    "\n",
    "    is_even1 = (len(perm1.cycle_type()) % 2 == 0)  \n",
    "    is_even2 = (len(perm2.cycle_type()) % 2 == 0) \n",
    "    \n",
    "    print(f\"Permutaion 1: {perm1}, парна: {is_even1}\")\n",
    "    print(f\"Permutaion 2: {perm2}, парна: {is_even2}\")\n",
    "\n",
    "    generated_group = PermutationGroup([perm1, perm2])\n",
    "    \n",
    "    order = generated_group.order()\n",
    "    print(f\"порядок групи, породженої підстановками: {order}\")\n",
    "    \n",
    "    if generated_group.is_subgroup(AlternatingGroup(n)):\n",
    "        print(\"породжена група дорівнює An\")\n",
    "    else:\n",
    "        print(\"породжена група не дорівнює An\")\n",
    "        \n",
    "    if generated_group.is_subgroup(SymmetricGroup(n)):\n",
    "        print(\"породжена група дорівнює Sn\")\n",
    "    else:\n",
    "        print(\"породжена група не дорівнює Sn\")\n",
    "\n",
    "\n",
    "n = random.randint(1, 100)\n",
    "random_permutation_and_properties(n)"
   ]
  },
  {
   "cell_type": "markdown",
   "id": "32485aa0-d40f-4b33-a030-7d3bd7722d70",
   "metadata": {},
   "source": [
    "## Завдання 4. \n",
    "\n",
    "__Покажіть, що теорема Лагранжа працює тільки в одну сторону: знайдіть приклад групи $G$ і дільник порядку цієї групи $d$ такі, що не існує підгрупи $H < G$ порядку $d$.__\n",
    "\n",
    "___Зауваження:___ група $A_4$ не приймається"
   ]
  },
  {
   "cell_type": "code",
   "execution_count": 8,
   "id": "1391015a-a20e-41d5-b631-6251d1e69316",
   "metadata": {},
   "outputs": [
    {
     "name": "stdout",
     "output_type": "stream",
     "text": [
      "Порядок групи: 168\n",
      "не існує підгрупи порядку 42 в PSL(2,7)\n"
     ]
    }
   ],
   "source": [
    "from sage.groups.perm_gps.permgroup_named import SymmetricGroup\n",
    "\n",
    "G = PSL(2,7)\n",
    "\n",
    "print(\"Порядок групи:\", G.order())\n",
    "\n",
    "\n",
    "subgroups = G.subgroups()\n",
    "order_42_exists = any(H.order() == 42 for H in subgroups)\n",
    "\n",
    "if order_42_exists:\n",
    "    print(\"існує підгрупа порядку 42 в PSL(2,7\")\n",
    "else:\n",
    "    print(\"не існує підгрупи порядку 42 в PSL(2,7)\")\n"
   ]
  }
 ],
 "metadata": {
  "kernelspec": {
   "display_name": "Python 3 (ipykernel)",
   "language": "python",
   "name": "python3"
  },
  "language_info": {
   "codemirror_mode": {
    "name": "ipython",
    "version": 3
   },
   "file_extension": ".py",
   "mimetype": "text/x-python",
   "name": "python",
   "nbconvert_exporter": "python",
   "pygments_lexer": "ipython3",
   "version": "3.11.10"
  }
 },
 "nbformat": 4,
 "nbformat_minor": 5
}
